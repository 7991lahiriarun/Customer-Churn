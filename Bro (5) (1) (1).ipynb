{
 "cells": [
  {
   "cell_type": "code",
   "execution_count": 76,
   "metadata": {},
   "outputs": [],
   "source": [
    "import numpy as np\n",
    "import pandas as pd\n",
    "import matplotlib.pyplot as plt\n",
    "import seaborn as sns\n",
    "from sklearn import model_selection\n",
    "from sklearn.model_selection import train_test_split\n",
    "from sklearn.preprocessing import StandardScaler\n",
    "from sklearn.neighbors import KNeighborsClassifier\n",
    "from sklearn.linear_model import LogisticRegression\n",
    "from sklearn.tree import DecisionTreeClassifier\n",
    "from sklearn.naive_bayes import GaussianNB\n",
    "from sklearn import metrics\n",
    "from sklearn.metrics import accuracy_score,f1_score\n",
    "from sklearn.metrics import classification_report, confusion_matrix,r2_score\n",
    "from sklearn import feature_selection\n",
    "from sklearn.feature_selection import RFE\n",
    "from sklearn.feature_selection import SelectKBest\n",
    "from sklearn.feature_selection import chi2,f_classif\n",
    "from scipy import stats\n",
    "from sklearn.ensemble import RandomForestClassifier\n",
    "%matplotlib inline"
   ]
  },
  {
   "cell_type": "code",
   "execution_count": 2,
   "metadata": {},
   "outputs": [],
   "source": [
    "data=pd.read_csv('dat.csv',index_col='customerID')"
   ]
  },
  {
   "cell_type": "code",
   "execution_count": 3,
   "metadata": {},
   "outputs": [
    {
     "data": {
      "text/html": [
       "<div>\n",
       "<style scoped>\n",
       "    .dataframe tbody tr th:only-of-type {\n",
       "        vertical-align: middle;\n",
       "    }\n",
       "\n",
       "    .dataframe tbody tr th {\n",
       "        vertical-align: top;\n",
       "    }\n",
       "\n",
       "    .dataframe thead th {\n",
       "        text-align: right;\n",
       "    }\n",
       "</style>\n",
       "<table border=\"1\" class=\"dataframe\">\n",
       "  <thead>\n",
       "    <tr style=\"text-align: right;\">\n",
       "      <th></th>\n",
       "      <th>gender</th>\n",
       "      <th>SeniorCitizen</th>\n",
       "      <th>Partner</th>\n",
       "      <th>Dependents</th>\n",
       "      <th>tenure</th>\n",
       "      <th>PhoneService</th>\n",
       "      <th>MultipleLines</th>\n",
       "      <th>InternetService</th>\n",
       "      <th>OnlineSecurity</th>\n",
       "      <th>OnlineBackup</th>\n",
       "      <th>DeviceProtection</th>\n",
       "      <th>TechSupport</th>\n",
       "      <th>StreamingTV</th>\n",
       "      <th>StreamingMovies</th>\n",
       "      <th>Contract</th>\n",
       "      <th>PaperlessBilling</th>\n",
       "      <th>PaymentMethod</th>\n",
       "      <th>MonthlyCharges</th>\n",
       "      <th>TotalCharges</th>\n",
       "      <th>Churn</th>\n",
       "    </tr>\n",
       "    <tr>\n",
       "      <th>customerID</th>\n",
       "      <th></th>\n",
       "      <th></th>\n",
       "      <th></th>\n",
       "      <th></th>\n",
       "      <th></th>\n",
       "      <th></th>\n",
       "      <th></th>\n",
       "      <th></th>\n",
       "      <th></th>\n",
       "      <th></th>\n",
       "      <th></th>\n",
       "      <th></th>\n",
       "      <th></th>\n",
       "      <th></th>\n",
       "      <th></th>\n",
       "      <th></th>\n",
       "      <th></th>\n",
       "      <th></th>\n",
       "      <th></th>\n",
       "      <th></th>\n",
       "    </tr>\n",
       "  </thead>\n",
       "  <tbody>\n",
       "    <tr>\n",
       "      <th>7590-VHVEG</th>\n",
       "      <td>Female</td>\n",
       "      <td>0</td>\n",
       "      <td>1</td>\n",
       "      <td>0</td>\n",
       "      <td>1</td>\n",
       "      <td>0</td>\n",
       "      <td>0 phone service</td>\n",
       "      <td>DSL</td>\n",
       "      <td>0</td>\n",
       "      <td>1</td>\n",
       "      <td>0</td>\n",
       "      <td>0</td>\n",
       "      <td>0</td>\n",
       "      <td>0</td>\n",
       "      <td>Month-to-month</td>\n",
       "      <td>1</td>\n",
       "      <td>Electronic check</td>\n",
       "      <td>29.85</td>\n",
       "      <td>29.85</td>\n",
       "      <td>0</td>\n",
       "    </tr>\n",
       "    <tr>\n",
       "      <th>5575-GNVDE</th>\n",
       "      <td>Male</td>\n",
       "      <td>0</td>\n",
       "      <td>0</td>\n",
       "      <td>0</td>\n",
       "      <td>34</td>\n",
       "      <td>1</td>\n",
       "      <td>0</td>\n",
       "      <td>DSL</td>\n",
       "      <td>1</td>\n",
       "      <td>0</td>\n",
       "      <td>1</td>\n",
       "      <td>0</td>\n",
       "      <td>0</td>\n",
       "      <td>0</td>\n",
       "      <td>One year</td>\n",
       "      <td>0</td>\n",
       "      <td>Mailed check</td>\n",
       "      <td>56.95</td>\n",
       "      <td>1889.5</td>\n",
       "      <td>0</td>\n",
       "    </tr>\n",
       "    <tr>\n",
       "      <th>3668-QPYBK</th>\n",
       "      <td>Male</td>\n",
       "      <td>0</td>\n",
       "      <td>0</td>\n",
       "      <td>0</td>\n",
       "      <td>2</td>\n",
       "      <td>1</td>\n",
       "      <td>0</td>\n",
       "      <td>DSL</td>\n",
       "      <td>1</td>\n",
       "      <td>1</td>\n",
       "      <td>0</td>\n",
       "      <td>0</td>\n",
       "      <td>0</td>\n",
       "      <td>0</td>\n",
       "      <td>Month-to-month</td>\n",
       "      <td>1</td>\n",
       "      <td>Mailed check</td>\n",
       "      <td>53.85</td>\n",
       "      <td>108.15</td>\n",
       "      <td>1</td>\n",
       "    </tr>\n",
       "    <tr>\n",
       "      <th>7795-CFOCW</th>\n",
       "      <td>Male</td>\n",
       "      <td>0</td>\n",
       "      <td>0</td>\n",
       "      <td>0</td>\n",
       "      <td>45</td>\n",
       "      <td>0</td>\n",
       "      <td>0 phone service</td>\n",
       "      <td>DSL</td>\n",
       "      <td>1</td>\n",
       "      <td>0</td>\n",
       "      <td>1</td>\n",
       "      <td>1</td>\n",
       "      <td>0</td>\n",
       "      <td>0</td>\n",
       "      <td>One year</td>\n",
       "      <td>0</td>\n",
       "      <td>Bank transfer (automatic)</td>\n",
       "      <td>42.30</td>\n",
       "      <td>1840.75</td>\n",
       "      <td>0</td>\n",
       "    </tr>\n",
       "    <tr>\n",
       "      <th>9237-HQITU</th>\n",
       "      <td>Female</td>\n",
       "      <td>0</td>\n",
       "      <td>0</td>\n",
       "      <td>0</td>\n",
       "      <td>2</td>\n",
       "      <td>1</td>\n",
       "      <td>0</td>\n",
       "      <td>Fiber optic</td>\n",
       "      <td>0</td>\n",
       "      <td>0</td>\n",
       "      <td>0</td>\n",
       "      <td>0</td>\n",
       "      <td>0</td>\n",
       "      <td>0</td>\n",
       "      <td>Month-to-month</td>\n",
       "      <td>1</td>\n",
       "      <td>Electronic check</td>\n",
       "      <td>70.70</td>\n",
       "      <td>151.65</td>\n",
       "      <td>1</td>\n",
       "    </tr>\n",
       "  </tbody>\n",
       "</table>\n",
       "</div>"
      ],
      "text/plain": [
       "            gender  SeniorCitizen  Partner  Dependents  tenure  PhoneService  \\\n",
       "customerID                                                                     \n",
       "7590-VHVEG  Female              0        1           0       1             0   \n",
       "5575-GNVDE    Male              0        0           0      34             1   \n",
       "3668-QPYBK    Male              0        0           0       2             1   \n",
       "7795-CFOCW    Male              0        0           0      45             0   \n",
       "9237-HQITU  Female              0        0           0       2             1   \n",
       "\n",
       "              MultipleLines InternetService  OnlineSecurity  OnlineBackup  \\\n",
       "customerID                                                                  \n",
       "7590-VHVEG  0 phone service             DSL               0             1   \n",
       "5575-GNVDE                0             DSL               1             0   \n",
       "3668-QPYBK                0             DSL               1             1   \n",
       "7795-CFOCW  0 phone service             DSL               1             0   \n",
       "9237-HQITU                0     Fiber optic               0             0   \n",
       "\n",
       "            DeviceProtection  TechSupport  StreamingTV  StreamingMovies  \\\n",
       "customerID                                                                \n",
       "7590-VHVEG                 0            0            0                0   \n",
       "5575-GNVDE                 1            0            0                0   \n",
       "3668-QPYBK                 0            0            0                0   \n",
       "7795-CFOCW                 1            1            0                0   \n",
       "9237-HQITU                 0            0            0                0   \n",
       "\n",
       "                  Contract  PaperlessBilling              PaymentMethod  \\\n",
       "customerID                                                                \n",
       "7590-VHVEG  Month-to-month                 1           Electronic check   \n",
       "5575-GNVDE        One year                 0               Mailed check   \n",
       "3668-QPYBK  Month-to-month                 1               Mailed check   \n",
       "7795-CFOCW        One year                 0  Bank transfer (automatic)   \n",
       "9237-HQITU  Month-to-month                 1           Electronic check   \n",
       "\n",
       "            MonthlyCharges TotalCharges  Churn  \n",
       "customerID                                      \n",
       "7590-VHVEG           29.85        29.85      0  \n",
       "5575-GNVDE           56.95       1889.5      0  \n",
       "3668-QPYBK           53.85       108.15      1  \n",
       "7795-CFOCW           42.30      1840.75      0  \n",
       "9237-HQITU           70.70       151.65      1  "
      ]
     },
     "execution_count": 3,
     "metadata": {},
     "output_type": "execute_result"
    }
   ],
   "source": [
    "data.head()"
   ]
  },
  {
   "cell_type": "code",
   "execution_count": 4,
   "metadata": {},
   "outputs": [
    {
     "data": {
      "text/html": [
       "<div>\n",
       "<style scoped>\n",
       "    .dataframe tbody tr th:only-of-type {\n",
       "        vertical-align: middle;\n",
       "    }\n",
       "\n",
       "    .dataframe tbody tr th {\n",
       "        vertical-align: top;\n",
       "    }\n",
       "\n",
       "    .dataframe thead th {\n",
       "        text-align: right;\n",
       "    }\n",
       "</style>\n",
       "<table border=\"1\" class=\"dataframe\">\n",
       "  <thead>\n",
       "    <tr style=\"text-align: right;\">\n",
       "      <th></th>\n",
       "      <th>SeniorCitizen</th>\n",
       "      <th>Partner</th>\n",
       "      <th>Dependents</th>\n",
       "      <th>tenure</th>\n",
       "      <th>PhoneService</th>\n",
       "      <th>OnlineSecurity</th>\n",
       "      <th>OnlineBackup</th>\n",
       "      <th>DeviceProtection</th>\n",
       "      <th>TechSupport</th>\n",
       "      <th>StreamingTV</th>\n",
       "      <th>StreamingMovies</th>\n",
       "      <th>PaperlessBilling</th>\n",
       "      <th>MonthlyCharges</th>\n",
       "      <th>Churn</th>\n",
       "    </tr>\n",
       "  </thead>\n",
       "  <tbody>\n",
       "    <tr>\n",
       "      <th>count</th>\n",
       "      <td>7043.000000</td>\n",
       "      <td>7043.000000</td>\n",
       "      <td>7043.000000</td>\n",
       "      <td>7043.000000</td>\n",
       "      <td>7043.000000</td>\n",
       "      <td>7043.000000</td>\n",
       "      <td>7043.000000</td>\n",
       "      <td>7043.000000</td>\n",
       "      <td>7043.000000</td>\n",
       "      <td>7043.000000</td>\n",
       "      <td>7043.000000</td>\n",
       "      <td>7043.000000</td>\n",
       "      <td>7043.000000</td>\n",
       "      <td>7043.000000</td>\n",
       "    </tr>\n",
       "    <tr>\n",
       "      <th>mean</th>\n",
       "      <td>0.162147</td>\n",
       "      <td>0.483033</td>\n",
       "      <td>0.299588</td>\n",
       "      <td>32.371149</td>\n",
       "      <td>0.903166</td>\n",
       "      <td>0.286668</td>\n",
       "      <td>0.344881</td>\n",
       "      <td>0.343888</td>\n",
       "      <td>0.290217</td>\n",
       "      <td>0.384353</td>\n",
       "      <td>0.387903</td>\n",
       "      <td>0.592219</td>\n",
       "      <td>64.761692</td>\n",
       "      <td>0.265370</td>\n",
       "    </tr>\n",
       "    <tr>\n",
       "      <th>std</th>\n",
       "      <td>0.368612</td>\n",
       "      <td>0.499748</td>\n",
       "      <td>0.458110</td>\n",
       "      <td>24.559481</td>\n",
       "      <td>0.295752</td>\n",
       "      <td>0.452237</td>\n",
       "      <td>0.475363</td>\n",
       "      <td>0.475038</td>\n",
       "      <td>0.453895</td>\n",
       "      <td>0.486477</td>\n",
       "      <td>0.487307</td>\n",
       "      <td>0.491457</td>\n",
       "      <td>30.090047</td>\n",
       "      <td>0.441561</td>\n",
       "    </tr>\n",
       "    <tr>\n",
       "      <th>min</th>\n",
       "      <td>0.000000</td>\n",
       "      <td>0.000000</td>\n",
       "      <td>0.000000</td>\n",
       "      <td>0.000000</td>\n",
       "      <td>0.000000</td>\n",
       "      <td>0.000000</td>\n",
       "      <td>0.000000</td>\n",
       "      <td>0.000000</td>\n",
       "      <td>0.000000</td>\n",
       "      <td>0.000000</td>\n",
       "      <td>0.000000</td>\n",
       "      <td>0.000000</td>\n",
       "      <td>18.250000</td>\n",
       "      <td>0.000000</td>\n",
       "    </tr>\n",
       "    <tr>\n",
       "      <th>25%</th>\n",
       "      <td>0.000000</td>\n",
       "      <td>0.000000</td>\n",
       "      <td>0.000000</td>\n",
       "      <td>9.000000</td>\n",
       "      <td>1.000000</td>\n",
       "      <td>0.000000</td>\n",
       "      <td>0.000000</td>\n",
       "      <td>0.000000</td>\n",
       "      <td>0.000000</td>\n",
       "      <td>0.000000</td>\n",
       "      <td>0.000000</td>\n",
       "      <td>0.000000</td>\n",
       "      <td>35.500000</td>\n",
       "      <td>0.000000</td>\n",
       "    </tr>\n",
       "    <tr>\n",
       "      <th>50%</th>\n",
       "      <td>0.000000</td>\n",
       "      <td>0.000000</td>\n",
       "      <td>0.000000</td>\n",
       "      <td>29.000000</td>\n",
       "      <td>1.000000</td>\n",
       "      <td>0.000000</td>\n",
       "      <td>0.000000</td>\n",
       "      <td>0.000000</td>\n",
       "      <td>0.000000</td>\n",
       "      <td>0.000000</td>\n",
       "      <td>0.000000</td>\n",
       "      <td>1.000000</td>\n",
       "      <td>70.350000</td>\n",
       "      <td>0.000000</td>\n",
       "    </tr>\n",
       "    <tr>\n",
       "      <th>75%</th>\n",
       "      <td>0.000000</td>\n",
       "      <td>1.000000</td>\n",
       "      <td>1.000000</td>\n",
       "      <td>55.000000</td>\n",
       "      <td>1.000000</td>\n",
       "      <td>1.000000</td>\n",
       "      <td>1.000000</td>\n",
       "      <td>1.000000</td>\n",
       "      <td>1.000000</td>\n",
       "      <td>1.000000</td>\n",
       "      <td>1.000000</td>\n",
       "      <td>1.000000</td>\n",
       "      <td>89.850000</td>\n",
       "      <td>1.000000</td>\n",
       "    </tr>\n",
       "    <tr>\n",
       "      <th>max</th>\n",
       "      <td>1.000000</td>\n",
       "      <td>1.000000</td>\n",
       "      <td>1.000000</td>\n",
       "      <td>72.000000</td>\n",
       "      <td>1.000000</td>\n",
       "      <td>1.000000</td>\n",
       "      <td>1.000000</td>\n",
       "      <td>1.000000</td>\n",
       "      <td>1.000000</td>\n",
       "      <td>1.000000</td>\n",
       "      <td>1.000000</td>\n",
       "      <td>1.000000</td>\n",
       "      <td>118.750000</td>\n",
       "      <td>1.000000</td>\n",
       "    </tr>\n",
       "  </tbody>\n",
       "</table>\n",
       "</div>"
      ],
      "text/plain": [
       "       SeniorCitizen      Partner   Dependents       tenure  PhoneService  \\\n",
       "count    7043.000000  7043.000000  7043.000000  7043.000000   7043.000000   \n",
       "mean        0.162147     0.483033     0.299588    32.371149      0.903166   \n",
       "std         0.368612     0.499748     0.458110    24.559481      0.295752   \n",
       "min         0.000000     0.000000     0.000000     0.000000      0.000000   \n",
       "25%         0.000000     0.000000     0.000000     9.000000      1.000000   \n",
       "50%         0.000000     0.000000     0.000000    29.000000      1.000000   \n",
       "75%         0.000000     1.000000     1.000000    55.000000      1.000000   \n",
       "max         1.000000     1.000000     1.000000    72.000000      1.000000   \n",
       "\n",
       "       OnlineSecurity  OnlineBackup  DeviceProtection  TechSupport  \\\n",
       "count     7043.000000   7043.000000       7043.000000  7043.000000   \n",
       "mean         0.286668      0.344881          0.343888     0.290217   \n",
       "std          0.452237      0.475363          0.475038     0.453895   \n",
       "min          0.000000      0.000000          0.000000     0.000000   \n",
       "25%          0.000000      0.000000          0.000000     0.000000   \n",
       "50%          0.000000      0.000000          0.000000     0.000000   \n",
       "75%          1.000000      1.000000          1.000000     1.000000   \n",
       "max          1.000000      1.000000          1.000000     1.000000   \n",
       "\n",
       "       StreamingTV  StreamingMovies  PaperlessBilling  MonthlyCharges  \\\n",
       "count  7043.000000      7043.000000       7043.000000     7043.000000   \n",
       "mean      0.384353         0.387903          0.592219       64.761692   \n",
       "std       0.486477         0.487307          0.491457       30.090047   \n",
       "min       0.000000         0.000000          0.000000       18.250000   \n",
       "25%       0.000000         0.000000          0.000000       35.500000   \n",
       "50%       0.000000         0.000000          1.000000       70.350000   \n",
       "75%       1.000000         1.000000          1.000000       89.850000   \n",
       "max       1.000000         1.000000          1.000000      118.750000   \n",
       "\n",
       "             Churn  \n",
       "count  7043.000000  \n",
       "mean      0.265370  \n",
       "std       0.441561  \n",
       "min       0.000000  \n",
       "25%       0.000000  \n",
       "50%       0.000000  \n",
       "75%       1.000000  \n",
       "max       1.000000  "
      ]
     },
     "execution_count": 4,
     "metadata": {},
     "output_type": "execute_result"
    }
   ],
   "source": [
    "data.describe()"
   ]
  },
  {
   "cell_type": "code",
   "execution_count": 5,
   "metadata": {},
   "outputs": [
    {
     "data": {
      "text/plain": [
       "gender              False\n",
       "SeniorCitizen       False\n",
       "Partner             False\n",
       "Dependents          False\n",
       "tenure              False\n",
       "PhoneService        False\n",
       "MultipleLines       False\n",
       "InternetService     False\n",
       "OnlineSecurity      False\n",
       "OnlineBackup        False\n",
       "DeviceProtection    False\n",
       "TechSupport         False\n",
       "StreamingTV         False\n",
       "StreamingMovies     False\n",
       "Contract            False\n",
       "PaperlessBilling    False\n",
       "PaymentMethod       False\n",
       "MonthlyCharges      False\n",
       "TotalCharges        False\n",
       "Churn               False\n",
       "dtype: bool"
      ]
     },
     "execution_count": 5,
     "metadata": {},
     "output_type": "execute_result"
    }
   ],
   "source": [
    "data.isnull().any()"
   ]
  },
  {
   "cell_type": "code",
   "execution_count": 6,
   "metadata": {},
   "outputs": [
    {
     "data": {
      "text/plain": [
       "(7043, 20)"
      ]
     },
     "execution_count": 6,
     "metadata": {},
     "output_type": "execute_result"
    }
   ],
   "source": [
    "data.shape"
   ]
  },
  {
   "cell_type": "code",
   "execution_count": 7,
   "metadata": {},
   "outputs": [
    {
     "name": "stdout",
     "output_type": "stream",
     "text": [
      "<class 'pandas.core.frame.DataFrame'>\n",
      "Index: 7043 entries, 7590-VHVEG to 3186-AJIEK\n",
      "Data columns (total 20 columns):\n",
      "gender              7043 non-null object\n",
      "SeniorCitizen       7043 non-null int64\n",
      "Partner             7043 non-null int64\n",
      "Dependents          7043 non-null int64\n",
      "tenure              7043 non-null int64\n",
      "PhoneService        7043 non-null int64\n",
      "MultipleLines       7043 non-null object\n",
      "InternetService     7043 non-null object\n",
      "OnlineSecurity      7043 non-null int64\n",
      "OnlineBackup        7043 non-null int64\n",
      "DeviceProtection    7043 non-null int64\n",
      "TechSupport         7043 non-null int64\n",
      "StreamingTV         7043 non-null int64\n",
      "StreamingMovies     7043 non-null int64\n",
      "Contract            7043 non-null object\n",
      "PaperlessBilling    7043 non-null int64\n",
      "PaymentMethod       7043 non-null object\n",
      "MonthlyCharges      7043 non-null float64\n",
      "TotalCharges        7043 non-null object\n",
      "Churn               7043 non-null int64\n",
      "dtypes: float64(1), int64(13), object(6)\n",
      "memory usage: 1.1+ MB\n"
     ]
    }
   ],
   "source": [
    "data.info()"
   ]
  },
  {
   "cell_type": "code",
   "execution_count": 8,
   "metadata": {},
   "outputs": [],
   "source": [
    "import matplotlib.pyplot as plt\n",
    "import seaborn as sns\n"
   ]
  },
  {
   "cell_type": "code",
   "execution_count": 9,
   "metadata": {},
   "outputs": [
    {
     "data": {
      "text/plain": [
       "<matplotlib.axes._subplots.AxesSubplot at 0x183acf54c50>"
      ]
     },
     "execution_count": 9,
     "metadata": {},
     "output_type": "execute_result"
    },
    {
     "data": {
      "image/png": "[encoded data removed]",
      "text/plain": [
       "<Figure size 720x360 with 2 Axes>"
      ]
     },
     "metadata": {
      "needs_background": "light"
     },
     "output_type": "display_data"
    }
   ],
   "source": [
    "plt.figure(figsize=(10,5))\n",
    "mat_corr=data.corr()\n",
    "sns.heatmap(mat_corr,annot=True)"
   ]
  },
  {
   "cell_type": "code",
   "execution_count": 10,
   "metadata": {},
   "outputs": [
    {
     "name": "stdout",
     "output_type": "stream",
     "text": [
      "            gender  SeniorCitizen  Partner  Dependents  tenure  PhoneService  \\\n",
      "customerID                                                                     \n",
      "7590-VHVEG  Female              0        1           0       1             0   \n",
      "5575-GNVDE    Male              0        0           0      34             1   \n",
      "3668-QPYBK    Male              0        0           0       2             1   \n",
      "7795-CFOCW    Male              0        0           0      45             0   \n",
      "9237-HQITU  Female              0        0           0       2             1   \n",
      "\n",
      "              MultipleLines InternetService  OnlineSecurity  OnlineBackup  \\\n",
      "customerID                                                                  \n",
      "7590-VHVEG  0 phone service             DSL               0             1   \n",
      "5575-GNVDE                0             DSL               1             0   \n",
      "3668-QPYBK                0             DSL               1             1   \n",
      "7795-CFOCW  0 phone service             DSL               1             0   \n",
      "9237-HQITU                0     Fiber optic               0             0   \n",
      "\n",
      "            ...  TechSupport  StreamingTV  StreamingMovies        Contract  \\\n",
      "customerID  ...                                                              \n",
      "7590-VHVEG  ...            0            0                0  Month-to-month   \n",
      "5575-GNVDE  ...            0            0                0        One year   \n",
      "3668-QPYBK  ...            0            0                0  Month-to-month   \n",
      "7795-CFOCW  ...            1            0                0        One year   \n",
      "9237-HQITU  ...            0            0                0  Month-to-month   \n",
      "\n",
      "           PaperlessBilling              PaymentMethod MonthlyCharges  \\\n",
      "customerID                                                              \n",
      "7590-VHVEG                1           Electronic check          29.85   \n",
      "5575-GNVDE                0               Mailed check          56.95   \n",
      "3668-QPYBK                1               Mailed check          53.85   \n",
      "7795-CFOCW                0  Bank transfer (automatic)          42.30   \n",
      "9237-HQITU                1           Electronic check          70.70   \n",
      "\n",
      "            TotalCharges Churn  Gender_n  \n",
      "customerID                                \n",
      "7590-VHVEG         29.85     0         0  \n",
      "5575-GNVDE        1889.5     0         1  \n",
      "3668-QPYBK        108.15     1         1  \n",
      "7795-CFOCW       1840.75     0         1  \n",
      "9237-HQITU        151.65     1         0  \n",
      "\n",
      "[5 rows x 21 columns]\n"
     ]
    }
   ],
   "source": [
    "from sklearn.preprocessing import LabelEncoder\n",
    "encoder=LabelEncoder()\n",
    "data['Gender_n']=encoder.fit_transform(data['gender'])\n",
    "print(data.head())"
   ]
  },
  {
   "cell_type": "code",
   "execution_count": 11,
   "metadata": {},
   "outputs": [
    {
     "name": "stdout",
     "output_type": "stream",
     "text": [
      "1.063031444575135\n"
     ]
    },
    {
     "data": {
      "image/png": "[encoded data removed]",
      "text/plain": [
       "<Figure size 432x288 with 1 Axes>"
      ]
     },
     "metadata": {
      "needs_background": "light"
     },
     "output_type": "display_data"
    }
   ],
   "source": [
    "sns.distplot(data['Churn'])\n",
    "print(data['Churn'].skew())\n"
   ]
  },
  {
   "cell_type": "code",
   "execution_count": 12,
   "metadata": {},
   "outputs": [
    {
     "data": {
      "text/plain": [
       "<matplotlib.axes._subplots.AxesSubplot at 0x183ad59a7f0>"
      ]
     },
     "execution_count": 12,
     "metadata": {},
     "output_type": "execute_result"
    },
    {
     "data": {
      "image/png": "[encoded data removed]",
      "text/plain": [
       "<Figure size 504x360 with 1 Axes>"
      ]
     },
     "metadata": {
      "needs_background": "light"
     },
     "output_type": "display_data"
    }
   ],
   "source": [
    "plt.figure(figsize=(7,5))\n",
    "sns.lineplot(x=data['tenure'],y=data['Churn'],color='red')"
   ]
  },
  {
   "cell_type": "code",
   "execution_count": 13,
   "metadata": {},
   "outputs": [
    {
     "name": "stdout",
     "output_type": "stream",
     "text": [
      "            gender  SeniorCitizen  Partner  Dependents  tenure  PhoneService  \\\n",
      "customerID                                                                     \n",
      "7590-VHVEG  Female              0        1           0       1             0   \n",
      "5575-GNVDE    Male              0        0           0      34             1   \n",
      "3668-QPYBK    Male              0        0           0       2             1   \n",
      "7795-CFOCW    Male              0        0           0      45             0   \n",
      "9237-HQITU  Female              0        0           0       2             1   \n",
      "9305-CDSKC  Female              0        0           0       8             1   \n",
      "1452-KIOVK    Male              0        0           1      22             1   \n",
      "\n",
      "              MultipleLines InternetService  OnlineSecurity  OnlineBackup  \\\n",
      "customerID                                                                  \n",
      "7590-VHVEG  0 phone service             DSL               0             1   \n",
      "5575-GNVDE                0             DSL               1             0   \n",
      "3668-QPYBK                0             DSL               1             1   \n",
      "7795-CFOCW  0 phone service             DSL               1             0   \n",
      "9237-HQITU                0     Fiber optic               0             0   \n",
      "9305-CDSKC                1     Fiber optic               0             0   \n",
      "1452-KIOVK                1     Fiber optic               0             1   \n",
      "\n",
      "            ...  StreamingTV  StreamingMovies        Contract  \\\n",
      "customerID  ...                                                 \n",
      "7590-VHVEG  ...            0                0  Month-to-month   \n",
      "5575-GNVDE  ...            0                0        One year   \n",
      "3668-QPYBK  ...            0                0  Month-to-month   \n",
      "7795-CFOCW  ...            0                0        One year   \n",
      "9237-HQITU  ...            0                0  Month-to-month   \n",
      "9305-CDSKC  ...            1                1  Month-to-month   \n",
      "1452-KIOVK  ...            1                0  Month-to-month   \n",
      "\n",
      "            PaperlessBilling              PaymentMethod  MonthlyCharges  \\\n",
      "customerID                                                                \n",
      "7590-VHVEG                 1           Electronic check           29.85   \n",
      "5575-GNVDE                 0               Mailed check           56.95   \n",
      "3668-QPYBK                 1               Mailed check           53.85   \n",
      "7795-CFOCW                 0  Bank transfer (automatic)           42.30   \n",
      "9237-HQITU                 1           Electronic check           70.70   \n",
      "9305-CDSKC                 1           Electronic check           99.65   \n",
      "1452-KIOVK                 1    Credit card (automatic)           89.10   \n",
      "\n",
      "           TotalCharges  Churn Gender_n  Payment_method  \n",
      "customerID                                               \n",
      "7590-VHVEG        29.85      0        0               2  \n",
      "5575-GNVDE       1889.5      0        1               3  \n",
      "3668-QPYBK       108.15      1        1               3  \n",
      "7795-CFOCW      1840.75      0        1               0  \n",
      "9237-HQITU       151.65      1        0               2  \n",
      "9305-CDSKC        820.5      1        0               2  \n",
      "1452-KIOVK       1949.4      0        1               1  \n",
      "\n",
      "[7 rows x 22 columns]\n"
     ]
    }
   ],
   "source": [
    "data['Payment_method']=encoder.fit_transform(data['PaymentMethod'])\n",
    "print(data.head(7))"
   ]
  },
  {
   "cell_type": "code",
   "execution_count": 14,
   "metadata": {},
   "outputs": [
    {
     "data": {
      "text/plain": [
       "<matplotlib.axes._subplots.AxesSubplot at 0x183ad5b4e48>"
      ]
     },
     "execution_count": 14,
     "metadata": {},
     "output_type": "execute_result"
    },
    {
     "data": {
      "image/png": "[encoded data removed]",
      "text/plain": [
       "<Figure size 432x288 with 1 Axes>"
      ]
     },
     "metadata": {
      "needs_background": "light"
     },
     "output_type": "display_data"
    }
   ],
   "source": [
    "sns.countplot(data['Payment_method'])"
   ]
  },
  {
   "cell_type": "code",
   "execution_count": 15,
   "metadata": {},
   "outputs": [
    {
     "data": {
      "text/plain": [
       "<matplotlib.axes._subplots.AxesSubplot at 0x183ad5d2cf8>"
      ]
     },
     "execution_count": 15,
     "metadata": {},
     "output_type": "execute_result"
    },
    {
     "data": {
      "image/png": "[encoded data removed]",
      "text/plain": [
       "<Figure size 432x288 with 1 Axes>"
      ]
     },
     "metadata": {
      "needs_background": "light"
     },
     "output_type": "display_data"
    }
   ],
   "source": [
    "sns.distplot(data['tenure'])"
   ]
  },
  {
   "cell_type": "code",
   "execution_count": 16,
   "metadata": {},
   "outputs": [
    {
     "data": {
      "text/plain": [
       "<matplotlib.axes._subplots.AxesSubplot at 0x183ad64d588>"
      ]
     },
     "execution_count": 16,
     "metadata": {},
     "output_type": "execute_result"
    },
    {
     "data": {
      "image/png": "[encoded data removed]",
      "text/plain": [
       "<Figure size 432x288 with 1 Axes>"
      ]
     },
     "metadata": {
      "needs_background": "light"
     },
     "output_type": "display_data"
    }
   ],
   "source": [
    "sns.distplot(data['MonthlyCharges'],bins=10,color='green')"
   ]
  },
  {
   "cell_type": "code",
   "execution_count": 17,
   "metadata": {},
   "outputs": [
    {
     "data": {
      "text/plain": [
       "<matplotlib.axes._subplots.AxesSubplot at 0x183ad64d940>"
      ]
     },
     "execution_count": 17,
     "metadata": {},
     "output_type": "execute_result"
    },
    {
     "data": {
      "image/png": "[encoded data removed]",
      "text/plain": [
       "<Figure size 360x360 with 1 Axes>"
      ]
     },
     "metadata": {
      "needs_background": "light"
     },
     "output_type": "display_data"
    }
   ],
   "source": [
    "plt.figure(figsize=(5,5))\n",
    "sns.countplot(data['PaymentMethod'])"
   ]
  },
  {
   "cell_type": "code",
   "execution_count": 18,
   "metadata": {},
   "outputs": [
    {
     "data": {
      "text/plain": [
       "<matplotlib.axes._subplots.AxesSubplot at 0x183ad71f940>"
      ]
     },
     "execution_count": 18,
     "metadata": {},
     "output_type": "execute_result"
    },
    {
     "data": {
      "image/png": "[encoded data removed]",
      "text/plain": [
       "<Figure size 432x288 with 1 Axes>"
      ]
     },
     "metadata": {
      "needs_background": "light"
     },
     "output_type": "display_data"
    }
   ],
   "source": [
    "sns.countplot(data['InternetService'])"
   ]
  },
  {
   "cell_type": "code",
   "execution_count": 19,
   "metadata": {},
   "outputs": [
    {
     "name": "stdout",
     "output_type": "stream",
     "text": [
      "            gender  SeniorCitizen  Partner  Dependents  tenure  PhoneService  \\\n",
      "customerID                                                                     \n",
      "7590-VHVEG  Female              0        1           0       1             0   \n",
      "5575-GNVDE    Male              0        0           0      34             1   \n",
      "3668-QPYBK    Male              0        0           0       2             1   \n",
      "7795-CFOCW    Male              0        0           0      45             0   \n",
      "9237-HQITU  Female              0        0           0       2             1   \n",
      "\n",
      "              MultipleLines InternetService  OnlineSecurity  OnlineBackup  \\\n",
      "customerID                                                                  \n",
      "7590-VHVEG  0 phone service             DSL               0             1   \n",
      "5575-GNVDE                0             DSL               1             0   \n",
      "3668-QPYBK                0             DSL               1             1   \n",
      "7795-CFOCW  0 phone service             DSL               1             0   \n",
      "9237-HQITU                0     Fiber optic               0             0   \n",
      "\n",
      "            ...  StreamingMovies        Contract  PaperlessBilling  \\\n",
      "customerID  ...                                                      \n",
      "7590-VHVEG  ...                0  Month-to-month                 1   \n",
      "5575-GNVDE  ...                0        One year                 0   \n",
      "3668-QPYBK  ...                0  Month-to-month                 1   \n",
      "7795-CFOCW  ...                0        One year                 0   \n",
      "9237-HQITU  ...                0  Month-to-month                 1   \n",
      "\n",
      "                        PaymentMethod MonthlyCharges  TotalCharges Churn  \\\n",
      "customerID                                                                 \n",
      "7590-VHVEG           Electronic check          29.85         29.85     0   \n",
      "5575-GNVDE               Mailed check          56.95        1889.5     0   \n",
      "3668-QPYBK               Mailed check          53.85        108.15     1   \n",
      "7795-CFOCW  Bank transfer (automatic)          42.30       1840.75     0   \n",
      "9237-HQITU           Electronic check          70.70        151.65     1   \n",
      "\n",
      "            Gender_n Payment_method  internet_service  \n",
      "customerID                                             \n",
      "7590-VHVEG         0              2                 1  \n",
      "5575-GNVDE         1              3                 1  \n",
      "3668-QPYBK         1              3                 1  \n",
      "7795-CFOCW         1              0                 1  \n",
      "9237-HQITU         0              2                 2  \n",
      "\n",
      "[5 rows x 23 columns]\n"
     ]
    }
   ],
   "source": [
    "data['internet_service']=encoder.fit_transform(data['InternetService'])\n",
    "print(data.head())"
   ]
  },
  {
   "cell_type": "code",
   "execution_count": 20,
   "metadata": {},
   "outputs": [
    {
     "name": "stdout",
     "output_type": "stream",
     "text": [
      "ModeResult(mode=array([2]), count=array([3096]))\n"
     ]
    }
   ],
   "source": [
    "internet_service_mode=stats.mode(data['internet_service'])\n",
    "print(internet_service_mode)"
   ]
  },
  {
   "cell_type": "code",
   "execution_count": 21,
   "metadata": {},
   "outputs": [
    {
     "data": {
      "text/plain": [
       "False"
      ]
     },
     "execution_count": 21,
     "metadata": {},
     "output_type": "execute_result"
    }
   ],
   "source": [
    "data['internet_service'].isnull().any()"
   ]
  },
  {
   "cell_type": "code",
   "execution_count": 22,
   "metadata": {},
   "outputs": [
    {
     "data": {
      "text/plain": [
       "customerID\n",
       "7590-VHVEG    1\n",
       "5575-GNVDE    1\n",
       "3668-QPYBK    1\n",
       "7795-CFOCW    1\n",
       "9237-HQITU    2\n",
       "9305-CDSKC    2\n",
       "1452-KIOVK    2\n",
       "6713-OKOMC    1\n",
       "7892-POOKP    2\n",
       "6388-TABGU    1\n",
       "9763-GRSKD    1\n",
       "7469-LKBCI    0\n",
       "8091-TTVAX    2\n",
       "0280-XJGEX    2\n",
       "5129-JLPIS    2\n",
       "3655-SNQYZ    2\n",
       "8191-XWSZG    0\n",
       "9959-WOFKT    2\n",
       "4190-MFLUW    1\n",
       "4183-MYFRB    2\n",
       "8779-QRDMV    1\n",
       "1680-VDCWW    0\n",
       "1066-JKSGK    0\n",
       "3638-WEABW    1\n",
       "6322-HRPFA    1\n",
       "6865-JZNKO    1\n",
       "6467-CHFZW    2\n",
       "8665-UTDHZ    1\n",
       "5248-YGIJN    1\n",
       "8773-HHUOZ    1\n",
       "             ..\n",
       "1685-BQULA    2\n",
       "9053-EJUNL    2\n",
       "0666-UXTJO    2\n",
       "1471-GIQKQ    1\n",
       "4807-IZYOZ    0\n",
       "1122-JWTJW    2\n",
       "9710-NJERN    0\n",
       "9837-FWLCH    0\n",
       "1699-HPSBG    1\n",
       "7203-OYKCT    2\n",
       "1035-IPQPU    2\n",
       "7398-LXGYX    2\n",
       "2823-LKABH    2\n",
       "8775-CEBBJ    1\n",
       "0550-DCXLH    1\n",
       "9281-CEDRU    1\n",
       "2235-DWLJU    1\n",
       "0871-OPBXW    0\n",
       "3605-JISKB    1\n",
       "6894-LFHLY    2\n",
       "9767-FFLEM    2\n",
       "0639-TSIQW    2\n",
       "8456-QDAVC    2\n",
       "7750-EYXWZ    1\n",
       "2569-WGERO    0\n",
       "6840-RESVB    1\n",
       "2234-XADUH    2\n",
       "4801-JZAZL    1\n",
       "8361-LTMKD    2\n",
       "3186-AJIEK    2\n",
       "Name: internet_service, Length: 7043, dtype: int32"
      ]
     },
     "execution_count": 22,
     "metadata": {},
     "output_type": "execute_result"
    }
   ],
   "source": [
    "data['internet_service'].fillna(np.NaN)"
   ]
  },
  {
   "cell_type": "code",
   "execution_count": 23,
   "metadata": {},
   "outputs": [],
   "source": [
    "data['internet_service']=data['internet_service'].replace(np.NaN,2)"
   ]
  },
  {
   "cell_type": "code",
   "execution_count": 24,
   "metadata": {},
   "outputs": [
    {
     "data": {
      "text/plain": [
       "<matplotlib.axes._subplots.AxesSubplot at 0x183acf5c198>"
      ]
     },
     "execution_count": 24,
     "metadata": {},
     "output_type": "execute_result"
    },
    {
     "data": {
      "image/png": "[encoded data removed]",
      "text/plain": [
       "<Figure size 432x288 with 1 Axes>"
      ]
     },
     "metadata": {
      "needs_background": "light"
     },
     "output_type": "display_data"
    }
   ],
   "source": [
    "sns.countplot(data['internet_service'])\n"
   ]
  },
  {
   "cell_type": "code",
   "execution_count": 25,
   "metadata": {},
   "outputs": [
    {
     "data": {
      "text/plain": [
       "False"
      ]
     },
     "execution_count": 25,
     "metadata": {},
     "output_type": "execute_result"
    }
   ],
   "source": [
    "data['internet_service'].isnull().any()"
   ]
  },
  {
   "cell_type": "code",
   "execution_count": 26,
   "metadata": {},
   "outputs": [
    {
     "data": {
      "text/plain": [
       "<matplotlib.axes._subplots.AxesSubplot at 0x183ad7bcd30>"
      ]
     },
     "execution_count": 26,
     "metadata": {},
     "output_type": "execute_result"
    },
    {
     "data": {
      "image/png": "[encoded data removed]",
      "text/plain": [
       "<Figure size 432x288 with 1 Axes>"
      ]
     },
     "metadata": {
      "needs_background": "light"
     },
     "output_type": "display_data"
    }
   ],
   "source": [
    "sns.countplot(data['Contract'])"
   ]
  },
  {
   "cell_type": "code",
   "execution_count": 27,
   "metadata": {},
   "outputs": [
    {
     "data": {
      "text/html": [
       "<div>\n",
       "<style scoped>\n",
       "    .dataframe tbody tr th:only-of-type {\n",
       "        vertical-align: middle;\n",
       "    }\n",
       "\n",
       "    .dataframe tbody tr th {\n",
       "        vertical-align: top;\n",
       "    }\n",
       "\n",
       "    .dataframe thead th {\n",
       "        text-align: right;\n",
       "    }\n",
       "</style>\n",
       "<table border=\"1\" class=\"dataframe\">\n",
       "  <thead>\n",
       "    <tr style=\"text-align: right;\">\n",
       "      <th></th>\n",
       "      <th>gender</th>\n",
       "      <th>SeniorCitizen</th>\n",
       "      <th>Partner</th>\n",
       "      <th>Dependents</th>\n",
       "      <th>tenure</th>\n",
       "      <th>PhoneService</th>\n",
       "      <th>MultipleLines</th>\n",
       "      <th>InternetService</th>\n",
       "      <th>OnlineSecurity</th>\n",
       "      <th>OnlineBackup</th>\n",
       "      <th>...</th>\n",
       "      <th>Contract</th>\n",
       "      <th>PaperlessBilling</th>\n",
       "      <th>PaymentMethod</th>\n",
       "      <th>MonthlyCharges</th>\n",
       "      <th>TotalCharges</th>\n",
       "      <th>Churn</th>\n",
       "      <th>Gender_n</th>\n",
       "      <th>Payment_method</th>\n",
       "      <th>internet_service</th>\n",
       "      <th>en_contract</th>\n",
       "    </tr>\n",
       "    <tr>\n",
       "      <th>customerID</th>\n",
       "      <th></th>\n",
       "      <th></th>\n",
       "      <th></th>\n",
       "      <th></th>\n",
       "      <th></th>\n",
       "      <th></th>\n",
       "      <th></th>\n",
       "      <th></th>\n",
       "      <th></th>\n",
       "      <th></th>\n",
       "      <th></th>\n",
       "      <th></th>\n",
       "      <th></th>\n",
       "      <th></th>\n",
       "      <th></th>\n",
       "      <th></th>\n",
       "      <th></th>\n",
       "      <th></th>\n",
       "      <th></th>\n",
       "      <th></th>\n",
       "      <th></th>\n",
       "    </tr>\n",
       "  </thead>\n",
       "  <tbody>\n",
       "    <tr>\n",
       "      <th>7590-VHVEG</th>\n",
       "      <td>Female</td>\n",
       "      <td>0</td>\n",
       "      <td>1</td>\n",
       "      <td>0</td>\n",
       "      <td>1</td>\n",
       "      <td>0</td>\n",
       "      <td>0 phone service</td>\n",
       "      <td>DSL</td>\n",
       "      <td>0</td>\n",
       "      <td>1</td>\n",
       "      <td>...</td>\n",
       "      <td>Month-to-month</td>\n",
       "      <td>1</td>\n",
       "      <td>Electronic check</td>\n",
       "      <td>29.85</td>\n",
       "      <td>29.85</td>\n",
       "      <td>0</td>\n",
       "      <td>0</td>\n",
       "      <td>2</td>\n",
       "      <td>1</td>\n",
       "      <td>0</td>\n",
       "    </tr>\n",
       "    <tr>\n",
       "      <th>5575-GNVDE</th>\n",
       "      <td>Male</td>\n",
       "      <td>0</td>\n",
       "      <td>0</td>\n",
       "      <td>0</td>\n",
       "      <td>34</td>\n",
       "      <td>1</td>\n",
       "      <td>0</td>\n",
       "      <td>DSL</td>\n",
       "      <td>1</td>\n",
       "      <td>0</td>\n",
       "      <td>...</td>\n",
       "      <td>One year</td>\n",
       "      <td>0</td>\n",
       "      <td>Mailed check</td>\n",
       "      <td>56.95</td>\n",
       "      <td>1889.5</td>\n",
       "      <td>0</td>\n",
       "      <td>1</td>\n",
       "      <td>3</td>\n",
       "      <td>1</td>\n",
       "      <td>1</td>\n",
       "    </tr>\n",
       "    <tr>\n",
       "      <th>3668-QPYBK</th>\n",
       "      <td>Male</td>\n",
       "      <td>0</td>\n",
       "      <td>0</td>\n",
       "      <td>0</td>\n",
       "      <td>2</td>\n",
       "      <td>1</td>\n",
       "      <td>0</td>\n",
       "      <td>DSL</td>\n",
       "      <td>1</td>\n",
       "      <td>1</td>\n",
       "      <td>...</td>\n",
       "      <td>Month-to-month</td>\n",
       "      <td>1</td>\n",
       "      <td>Mailed check</td>\n",
       "      <td>53.85</td>\n",
       "      <td>108.15</td>\n",
       "      <td>1</td>\n",
       "      <td>1</td>\n",
       "      <td>3</td>\n",
       "      <td>1</td>\n",
       "      <td>0</td>\n",
       "    </tr>\n",
       "    <tr>\n",
       "      <th>7795-CFOCW</th>\n",
       "      <td>Male</td>\n",
       "      <td>0</td>\n",
       "      <td>0</td>\n",
       "      <td>0</td>\n",
       "      <td>45</td>\n",
       "      <td>0</td>\n",
       "      <td>0 phone service</td>\n",
       "      <td>DSL</td>\n",
       "      <td>1</td>\n",
       "      <td>0</td>\n",
       "      <td>...</td>\n",
       "      <td>One year</td>\n",
       "      <td>0</td>\n",
       "      <td>Bank transfer (automatic)</td>\n",
       "      <td>42.30</td>\n",
       "      <td>1840.75</td>\n",
       "      <td>0</td>\n",
       "      <td>1</td>\n",
       "      <td>0</td>\n",
       "      <td>1</td>\n",
       "      <td>1</td>\n",
       "    </tr>\n",
       "    <tr>\n",
       "      <th>9237-HQITU</th>\n",
       "      <td>Female</td>\n",
       "      <td>0</td>\n",
       "      <td>0</td>\n",
       "      <td>0</td>\n",
       "      <td>2</td>\n",
       "      <td>1</td>\n",
       "      <td>0</td>\n",
       "      <td>Fiber optic</td>\n",
       "      <td>0</td>\n",
       "      <td>0</td>\n",
       "      <td>...</td>\n",
       "      <td>Month-to-month</td>\n",
       "      <td>1</td>\n",
       "      <td>Electronic check</td>\n",
       "      <td>70.70</td>\n",
       "      <td>151.65</td>\n",
       "      <td>1</td>\n",
       "      <td>0</td>\n",
       "      <td>2</td>\n",
       "      <td>2</td>\n",
       "      <td>0</td>\n",
       "    </tr>\n",
       "  </tbody>\n",
       "</table>\n",
       "<p>5 rows × 24 columns</p>\n",
       "</div>"
      ],
      "text/plain": [
       "            gender  SeniorCitizen  Partner  Dependents  tenure  PhoneService  \\\n",
       "customerID                                                                     \n",
       "7590-VHVEG  Female              0        1           0       1             0   \n",
       "5575-GNVDE    Male              0        0           0      34             1   \n",
       "3668-QPYBK    Male              0        0           0       2             1   \n",
       "7795-CFOCW    Male              0        0           0      45             0   \n",
       "9237-HQITU  Female              0        0           0       2             1   \n",
       "\n",
       "              MultipleLines InternetService  OnlineSecurity  OnlineBackup  \\\n",
       "customerID                                                                  \n",
       "7590-VHVEG  0 phone service             DSL               0             1   \n",
       "5575-GNVDE                0             DSL               1             0   \n",
       "3668-QPYBK                0             DSL               1             1   \n",
       "7795-CFOCW  0 phone service             DSL               1             0   \n",
       "9237-HQITU                0     Fiber optic               0             0   \n",
       "\n",
       "            ...        Contract  PaperlessBilling              PaymentMethod  \\\n",
       "customerID  ...                                                                \n",
       "7590-VHVEG  ...  Month-to-month                 1           Electronic check   \n",
       "5575-GNVDE  ...        One year                 0               Mailed check   \n",
       "3668-QPYBK  ...  Month-to-month                 1               Mailed check   \n",
       "7795-CFOCW  ...        One year                 0  Bank transfer (automatic)   \n",
       "9237-HQITU  ...  Month-to-month                 1           Electronic check   \n",
       "\n",
       "            MonthlyCharges TotalCharges  Churn Gender_n  Payment_method  \\\n",
       "customerID                                                                \n",
       "7590-VHVEG           29.85        29.85      0        0               2   \n",
       "5575-GNVDE           56.95       1889.5      0        1               3   \n",
       "3668-QPYBK           53.85       108.15      1        1               3   \n",
       "7795-CFOCW           42.30      1840.75      0        1               0   \n",
       "9237-HQITU           70.70       151.65      1        0               2   \n",
       "\n",
       "           internet_service  en_contract  \n",
       "customerID                                \n",
       "7590-VHVEG                1            0  \n",
       "5575-GNVDE                1            1  \n",
       "3668-QPYBK                1            0  \n",
       "7795-CFOCW                1            1  \n",
       "9237-HQITU                2            0  \n",
       "\n",
       "[5 rows x 24 columns]"
      ]
     },
     "execution_count": 27,
     "metadata": {},
     "output_type": "execute_result"
    }
   ],
   "source": [
    "data['en_contract']=encoder.fit_transform(data['Contract'])\n",
    "data.head()"
   ]
  },
  {
   "cell_type": "code",
   "execution_count": 28,
   "metadata": {},
   "outputs": [
    {
     "data": {
      "text/plain": [
       "<matplotlib.axes._subplots.AxesSubplot at 0x183ae7ffb00>"
      ]
     },
     "execution_count": 28,
     "metadata": {},
     "output_type": "execute_result"
    },
    {
     "data": {
      "image/png": "[encoded data removed]",
      "text/plain": [
       "<Figure size 432x288 with 1 Axes>"
      ]
     },
     "metadata": {
      "needs_background": "light"
     },
     "output_type": "display_data"
    }
   ],
   "source": [
    "sns.countplot(data['en_contract'])"
   ]
  },
  {
   "cell_type": "code",
   "execution_count": 29,
   "metadata": {},
   "outputs": [
    {
     "data": {
      "text/plain": [
       "False"
      ]
     },
     "execution_count": 29,
     "metadata": {},
     "output_type": "execute_result"
    }
   ],
   "source": [
    "data['en_contract'].isnull().any()"
   ]
  },
  {
   "cell_type": "code",
   "execution_count": 30,
   "metadata": {},
   "outputs": [
    {
     "name": "stdout",
     "output_type": "stream",
     "text": [
      "<class 'pandas.core.frame.DataFrame'>\n",
      "Index: 7043 entries, 7590-VHVEG to 3186-AJIEK\n",
      "Data columns (total 24 columns):\n",
      "gender              7043 non-null object\n",
      "SeniorCitizen       7043 non-null int64\n",
      "Partner             7043 non-null int64\n",
      "Dependents          7043 non-null int64\n",
      "tenure              7043 non-null int64\n",
      "PhoneService        7043 non-null int64\n",
      "MultipleLines       7043 non-null object\n",
      "InternetService     7043 non-null object\n",
      "OnlineSecurity      7043 non-null int64\n",
      "OnlineBackup        7043 non-null int64\n",
      "DeviceProtection    7043 non-null int64\n",
      "TechSupport         7043 non-null int64\n",
      "StreamingTV         7043 non-null int64\n",
      "StreamingMovies     7043 non-null int64\n",
      "Contract            7043 non-null object\n",
      "PaperlessBilling    7043 non-null int64\n",
      "PaymentMethod       7043 non-null object\n",
      "MonthlyCharges      7043 non-null float64\n",
      "TotalCharges        7043 non-null object\n",
      "Churn               7043 non-null int64\n",
      "Gender_n            7043 non-null int32\n",
      "Payment_method      7043 non-null int32\n",
      "internet_service    7043 non-null int32\n",
      "en_contract         7043 non-null int32\n",
      "dtypes: float64(1), int32(4), int64(13), object(6)\n",
      "memory usage: 1.5+ MB\n"
     ]
    }
   ],
   "source": [
    "data.info()"
   ]
  },
  {
   "cell_type": "code",
   "execution_count": 31,
   "metadata": {},
   "outputs": [],
   "source": [
    "data.drop(['gender','PaymentMethod','InternetService','Contract'],axis=1,inplace=True)"
   ]
  },
  {
   "cell_type": "code",
   "execution_count": 32,
   "metadata": {},
   "outputs": [
    {
     "data": {
      "text/html": [
       "<div>\n",
       "<style scoped>\n",
       "    .dataframe tbody tr th:only-of-type {\n",
       "        vertical-align: middle;\n",
       "    }\n",
       "\n",
       "    .dataframe tbody tr th {\n",
       "        vertical-align: top;\n",
       "    }\n",
       "\n",
       "    .dataframe thead th {\n",
       "        text-align: right;\n",
       "    }\n",
       "</style>\n",
       "<table border=\"1\" class=\"dataframe\">\n",
       "  <thead>\n",
       "    <tr style=\"text-align: right;\">\n",
       "      <th></th>\n",
       "      <th>SeniorCitizen</th>\n",
       "      <th>Partner</th>\n",
       "      <th>Dependents</th>\n",
       "      <th>tenure</th>\n",
       "      <th>PhoneService</th>\n",
       "      <th>MultipleLines</th>\n",
       "      <th>OnlineSecurity</th>\n",
       "      <th>OnlineBackup</th>\n",
       "      <th>DeviceProtection</th>\n",
       "      <th>TechSupport</th>\n",
       "      <th>StreamingTV</th>\n",
       "      <th>StreamingMovies</th>\n",
       "      <th>PaperlessBilling</th>\n",
       "      <th>MonthlyCharges</th>\n",
       "      <th>TotalCharges</th>\n",
       "      <th>Churn</th>\n",
       "      <th>Gender_n</th>\n",
       "      <th>Payment_method</th>\n",
       "      <th>internet_service</th>\n",
       "      <th>en_contract</th>\n",
       "    </tr>\n",
       "    <tr>\n",
       "      <th>customerID</th>\n",
       "      <th></th>\n",
       "      <th></th>\n",
       "      <th></th>\n",
       "      <th></th>\n",
       "      <th></th>\n",
       "      <th></th>\n",
       "      <th></th>\n",
       "      <th></th>\n",
       "      <th></th>\n",
       "      <th></th>\n",
       "      <th></th>\n",
       "      <th></th>\n",
       "      <th></th>\n",
       "      <th></th>\n",
       "      <th></th>\n",
       "      <th></th>\n",
       "      <th></th>\n",
       "      <th></th>\n",
       "      <th></th>\n",
       "      <th></th>\n",
       "    </tr>\n",
       "  </thead>\n",
       "  <tbody>\n",
       "    <tr>\n",
       "      <th>7590-VHVEG</th>\n",
       "      <td>0</td>\n",
       "      <td>1</td>\n",
       "      <td>0</td>\n",
       "      <td>1</td>\n",
       "      <td>0</td>\n",
       "      <td>0 phone service</td>\n",
       "      <td>0</td>\n",
       "      <td>1</td>\n",
       "      <td>0</td>\n",
       "      <td>0</td>\n",
       "      <td>0</td>\n",
       "      <td>0</td>\n",
       "      <td>1</td>\n",
       "      <td>29.85</td>\n",
       "      <td>29.85</td>\n",
       "      <td>0</td>\n",
       "      <td>0</td>\n",
       "      <td>2</td>\n",
       "      <td>1</td>\n",
       "      <td>0</td>\n",
       "    </tr>\n",
       "    <tr>\n",
       "      <th>5575-GNVDE</th>\n",
       "      <td>0</td>\n",
       "      <td>0</td>\n",
       "      <td>0</td>\n",
       "      <td>34</td>\n",
       "      <td>1</td>\n",
       "      <td>0</td>\n",
       "      <td>1</td>\n",
       "      <td>0</td>\n",
       "      <td>1</td>\n",
       "      <td>0</td>\n",
       "      <td>0</td>\n",
       "      <td>0</td>\n",
       "      <td>0</td>\n",
       "      <td>56.95</td>\n",
       "      <td>1889.5</td>\n",
       "      <td>0</td>\n",
       "      <td>1</td>\n",
       "      <td>3</td>\n",
       "      <td>1</td>\n",
       "      <td>1</td>\n",
       "    </tr>\n",
       "    <tr>\n",
       "      <th>3668-QPYBK</th>\n",
       "      <td>0</td>\n",
       "      <td>0</td>\n",
       "      <td>0</td>\n",
       "      <td>2</td>\n",
       "      <td>1</td>\n",
       "      <td>0</td>\n",
       "      <td>1</td>\n",
       "      <td>1</td>\n",
       "      <td>0</td>\n",
       "      <td>0</td>\n",
       "      <td>0</td>\n",
       "      <td>0</td>\n",
       "      <td>1</td>\n",
       "      <td>53.85</td>\n",
       "      <td>108.15</td>\n",
       "      <td>1</td>\n",
       "      <td>1</td>\n",
       "      <td>3</td>\n",
       "      <td>1</td>\n",
       "      <td>0</td>\n",
       "    </tr>\n",
       "    <tr>\n",
       "      <th>7795-CFOCW</th>\n",
       "      <td>0</td>\n",
       "      <td>0</td>\n",
       "      <td>0</td>\n",
       "      <td>45</td>\n",
       "      <td>0</td>\n",
       "      <td>0 phone service</td>\n",
       "      <td>1</td>\n",
       "      <td>0</td>\n",
       "      <td>1</td>\n",
       "      <td>1</td>\n",
       "      <td>0</td>\n",
       "      <td>0</td>\n",
       "      <td>0</td>\n",
       "      <td>42.30</td>\n",
       "      <td>1840.75</td>\n",
       "      <td>0</td>\n",
       "      <td>1</td>\n",
       "      <td>0</td>\n",
       "      <td>1</td>\n",
       "      <td>1</td>\n",
       "    </tr>\n",
       "    <tr>\n",
       "      <th>9237-HQITU</th>\n",
       "      <td>0</td>\n",
       "      <td>0</td>\n",
       "      <td>0</td>\n",
       "      <td>2</td>\n",
       "      <td>1</td>\n",
       "      <td>0</td>\n",
       "      <td>0</td>\n",
       "      <td>0</td>\n",
       "      <td>0</td>\n",
       "      <td>0</td>\n",
       "      <td>0</td>\n",
       "      <td>0</td>\n",
       "      <td>1</td>\n",
       "      <td>70.70</td>\n",
       "      <td>151.65</td>\n",
       "      <td>1</td>\n",
       "      <td>0</td>\n",
       "      <td>2</td>\n",
       "      <td>2</td>\n",
       "      <td>0</td>\n",
       "    </tr>\n",
       "  </tbody>\n",
       "</table>\n",
       "</div>"
      ],
      "text/plain": [
       "            SeniorCitizen  Partner  Dependents  tenure  PhoneService  \\\n",
       "customerID                                                             \n",
       "7590-VHVEG              0        1           0       1             0   \n",
       "5575-GNVDE              0        0           0      34             1   \n",
       "3668-QPYBK              0        0           0       2             1   \n",
       "7795-CFOCW              0        0           0      45             0   \n",
       "9237-HQITU              0        0           0       2             1   \n",
       "\n",
       "              MultipleLines  OnlineSecurity  OnlineBackup  DeviceProtection  \\\n",
       "customerID                                                                    \n",
       "7590-VHVEG  0 phone service               0             1                 0   \n",
       "5575-GNVDE                0               1             0                 1   \n",
       "3668-QPYBK                0               1             1                 0   \n",
       "7795-CFOCW  0 phone service               1             0                 1   \n",
       "9237-HQITU                0               0             0                 0   \n",
       "\n",
       "            TechSupport  StreamingTV  StreamingMovies  PaperlessBilling  \\\n",
       "customerID                                                                \n",
       "7590-VHVEG            0            0                0                 1   \n",
       "5575-GNVDE            0            0                0                 0   \n",
       "3668-QPYBK            0            0                0                 1   \n",
       "7795-CFOCW            1            0                0                 0   \n",
       "9237-HQITU            0            0                0                 1   \n",
       "\n",
       "            MonthlyCharges TotalCharges  Churn  Gender_n  Payment_method  \\\n",
       "customerID                                                                 \n",
       "7590-VHVEG           29.85        29.85      0         0               2   \n",
       "5575-GNVDE           56.95       1889.5      0         1               3   \n",
       "3668-QPYBK           53.85       108.15      1         1               3   \n",
       "7795-CFOCW           42.30      1840.75      0         1               0   \n",
       "9237-HQITU           70.70       151.65      1         0               2   \n",
       "\n",
       "            internet_service  en_contract  \n",
       "customerID                                 \n",
       "7590-VHVEG                 1            0  \n",
       "5575-GNVDE                 1            1  \n",
       "3668-QPYBK                 1            0  \n",
       "7795-CFOCW                 1            1  \n",
       "9237-HQITU                 2            0  "
      ]
     },
     "execution_count": 32,
     "metadata": {},
     "output_type": "execute_result"
    }
   ],
   "source": [
    "data.head(5)"
   ]
  },
  {
   "cell_type": "code",
   "execution_count": 33,
   "metadata": {},
   "outputs": [
    {
     "name": "stdout",
     "output_type": "stream",
     "text": [
      "<class 'pandas.core.frame.DataFrame'>\n",
      "Index: 7043 entries, 7590-VHVEG to 3186-AJIEK\n",
      "Data columns (total 20 columns):\n",
      "SeniorCitizen       7043 non-null int64\n",
      "Partner             7043 non-null int64\n",
      "Dependents          7043 non-null int64\n",
      "tenure              7043 non-null int64\n",
      "PhoneService        7043 non-null int64\n",
      "MultipleLines       7043 non-null object\n",
      "OnlineSecurity      7043 non-null int64\n",
      "OnlineBackup        7043 non-null int64\n",
      "DeviceProtection    7043 non-null int64\n",
      "TechSupport         7043 non-null int64\n",
      "StreamingTV         7043 non-null int64\n",
      "StreamingMovies     7043 non-null int64\n",
      "PaperlessBilling    7043 non-null int64\n",
      "MonthlyCharges      7043 non-null float64\n",
      "TotalCharges        7043 non-null object\n",
      "Churn               7043 non-null int64\n",
      "Gender_n            7043 non-null int32\n",
      "Payment_method      7043 non-null int32\n",
      "internet_service    7043 non-null int32\n",
      "en_contract         7043 non-null int32\n",
      "dtypes: float64(1), int32(4), int64(13), object(2)\n",
      "memory usage: 1.3+ MB\n"
     ]
    }
   ],
   "source": [
    "data.info()"
   ]
  },
  {
   "cell_type": "code",
   "execution_count": 34,
   "metadata": {},
   "outputs": [],
   "source": [
    "data.drop(['MultipleLines'],axis=1,inplace=True)"
   ]
  },
  {
   "cell_type": "code",
   "execution_count": 35,
   "metadata": {},
   "outputs": [
    {
     "data": {
      "text/html": [
       "<div>\n",
       "<style scoped>\n",
       "    .dataframe tbody tr th:only-of-type {\n",
       "        vertical-align: middle;\n",
       "    }\n",
       "\n",
       "    .dataframe tbody tr th {\n",
       "        vertical-align: top;\n",
       "    }\n",
       "\n",
       "    .dataframe thead th {\n",
       "        text-align: right;\n",
       "    }\n",
       "</style>\n",
       "<table border=\"1\" class=\"dataframe\">\n",
       "  <thead>\n",
       "    <tr style=\"text-align: right;\">\n",
       "      <th></th>\n",
       "      <th>SeniorCitizen</th>\n",
       "      <th>Partner</th>\n",
       "      <th>Dependents</th>\n",
       "      <th>tenure</th>\n",
       "      <th>PhoneService</th>\n",
       "      <th>OnlineSecurity</th>\n",
       "      <th>OnlineBackup</th>\n",
       "      <th>DeviceProtection</th>\n",
       "      <th>TechSupport</th>\n",
       "      <th>StreamingTV</th>\n",
       "      <th>StreamingMovies</th>\n",
       "      <th>PaperlessBilling</th>\n",
       "      <th>MonthlyCharges</th>\n",
       "      <th>TotalCharges</th>\n",
       "      <th>Churn</th>\n",
       "      <th>Gender_n</th>\n",
       "      <th>Payment_method</th>\n",
       "      <th>internet_service</th>\n",
       "      <th>en_contract</th>\n",
       "    </tr>\n",
       "    <tr>\n",
       "      <th>customerID</th>\n",
       "      <th></th>\n",
       "      <th></th>\n",
       "      <th></th>\n",
       "      <th></th>\n",
       "      <th></th>\n",
       "      <th></th>\n",
       "      <th></th>\n",
       "      <th></th>\n",
       "      <th></th>\n",
       "      <th></th>\n",
       "      <th></th>\n",
       "      <th></th>\n",
       "      <th></th>\n",
       "      <th></th>\n",
       "      <th></th>\n",
       "      <th></th>\n",
       "      <th></th>\n",
       "      <th></th>\n",
       "      <th></th>\n",
       "    </tr>\n",
       "  </thead>\n",
       "  <tbody>\n",
       "    <tr>\n",
       "      <th>7590-VHVEG</th>\n",
       "      <td>0</td>\n",
       "      <td>1</td>\n",
       "      <td>0</td>\n",
       "      <td>1</td>\n",
       "      <td>0</td>\n",
       "      <td>0</td>\n",
       "      <td>1</td>\n",
       "      <td>0</td>\n",
       "      <td>0</td>\n",
       "      <td>0</td>\n",
       "      <td>0</td>\n",
       "      <td>1</td>\n",
       "      <td>29.85</td>\n",
       "      <td>29.85</td>\n",
       "      <td>0</td>\n",
       "      <td>0</td>\n",
       "      <td>2</td>\n",
       "      <td>1</td>\n",
       "      <td>0</td>\n",
       "    </tr>\n",
       "    <tr>\n",
       "      <th>5575-GNVDE</th>\n",
       "      <td>0</td>\n",
       "      <td>0</td>\n",
       "      <td>0</td>\n",
       "      <td>34</td>\n",
       "      <td>1</td>\n",
       "      <td>1</td>\n",
       "      <td>0</td>\n",
       "      <td>1</td>\n",
       "      <td>0</td>\n",
       "      <td>0</td>\n",
       "      <td>0</td>\n",
       "      <td>0</td>\n",
       "      <td>56.95</td>\n",
       "      <td>1889.5</td>\n",
       "      <td>0</td>\n",
       "      <td>1</td>\n",
       "      <td>3</td>\n",
       "      <td>1</td>\n",
       "      <td>1</td>\n",
       "    </tr>\n",
       "    <tr>\n",
       "      <th>3668-QPYBK</th>\n",
       "      <td>0</td>\n",
       "      <td>0</td>\n",
       "      <td>0</td>\n",
       "      <td>2</td>\n",
       "      <td>1</td>\n",
       "      <td>1</td>\n",
       "      <td>1</td>\n",
       "      <td>0</td>\n",
       "      <td>0</td>\n",
       "      <td>0</td>\n",
       "      <td>0</td>\n",
       "      <td>1</td>\n",
       "      <td>53.85</td>\n",
       "      <td>108.15</td>\n",
       "      <td>1</td>\n",
       "      <td>1</td>\n",
       "      <td>3</td>\n",
       "      <td>1</td>\n",
       "      <td>0</td>\n",
       "    </tr>\n",
       "    <tr>\n",
       "      <th>7795-CFOCW</th>\n",
       "      <td>0</td>\n",
       "      <td>0</td>\n",
       "      <td>0</td>\n",
       "      <td>45</td>\n",
       "      <td>0</td>\n",
       "      <td>1</td>\n",
       "      <td>0</td>\n",
       "      <td>1</td>\n",
       "      <td>1</td>\n",
       "      <td>0</td>\n",
       "      <td>0</td>\n",
       "      <td>0</td>\n",
       "      <td>42.30</td>\n",
       "      <td>1840.75</td>\n",
       "      <td>0</td>\n",
       "      <td>1</td>\n",
       "      <td>0</td>\n",
       "      <td>1</td>\n",
       "      <td>1</td>\n",
       "    </tr>\n",
       "    <tr>\n",
       "      <th>9237-HQITU</th>\n",
       "      <td>0</td>\n",
       "      <td>0</td>\n",
       "      <td>0</td>\n",
       "      <td>2</td>\n",
       "      <td>1</td>\n",
       "      <td>0</td>\n",
       "      <td>0</td>\n",
       "      <td>0</td>\n",
       "      <td>0</td>\n",
       "      <td>0</td>\n",
       "      <td>0</td>\n",
       "      <td>1</td>\n",
       "      <td>70.70</td>\n",
       "      <td>151.65</td>\n",
       "      <td>1</td>\n",
       "      <td>0</td>\n",
       "      <td>2</td>\n",
       "      <td>2</td>\n",
       "      <td>0</td>\n",
       "    </tr>\n",
       "  </tbody>\n",
       "</table>\n",
       "</div>"
      ],
      "text/plain": [
       "            SeniorCitizen  Partner  Dependents  tenure  PhoneService  \\\n",
       "customerID                                                             \n",
       "7590-VHVEG              0        1           0       1             0   \n",
       "5575-GNVDE              0        0           0      34             1   \n",
       "3668-QPYBK              0        0           0       2             1   \n",
       "7795-CFOCW              0        0           0      45             0   \n",
       "9237-HQITU              0        0           0       2             1   \n",
       "\n",
       "            OnlineSecurity  OnlineBackup  DeviceProtection  TechSupport  \\\n",
       "customerID                                                                \n",
       "7590-VHVEG               0             1                 0            0   \n",
       "5575-GNVDE               1             0                 1            0   \n",
       "3668-QPYBK               1             1                 0            0   \n",
       "7795-CFOCW               1             0                 1            1   \n",
       "9237-HQITU               0             0                 0            0   \n",
       "\n",
       "            StreamingTV  StreamingMovies  PaperlessBilling  MonthlyCharges  \\\n",
       "customerID                                                                   \n",
       "7590-VHVEG            0                0                 1           29.85   \n",
       "5575-GNVDE            0                0                 0           56.95   \n",
       "3668-QPYBK            0                0                 1           53.85   \n",
       "7795-CFOCW            0                0                 0           42.30   \n",
       "9237-HQITU            0                0                 1           70.70   \n",
       "\n",
       "           TotalCharges  Churn  Gender_n  Payment_method  internet_service  \\\n",
       "customerID                                                                   \n",
       "7590-VHVEG        29.85      0         0               2                 1   \n",
       "5575-GNVDE       1889.5      0         1               3                 1   \n",
       "3668-QPYBK       108.15      1         1               3                 1   \n",
       "7795-CFOCW      1840.75      0         1               0                 1   \n",
       "9237-HQITU       151.65      1         0               2                 2   \n",
       "\n",
       "            en_contract  \n",
       "customerID               \n",
       "7590-VHVEG            0  \n",
       "5575-GNVDE            1  \n",
       "3668-QPYBK            0  \n",
       "7795-CFOCW            1  \n",
       "9237-HQITU            0  "
      ]
     },
     "execution_count": 35,
     "metadata": {},
     "output_type": "execute_result"
    }
   ],
   "source": [
    "data.head(5)"
   ]
  },
  {
   "cell_type": "code",
   "execution_count": 36,
   "metadata": {},
   "outputs": [
    {
     "name": "stdout",
     "output_type": "stream",
     "text": [
      "<class 'pandas.core.frame.DataFrame'>\n",
      "Index: 7043 entries, 7590-VHVEG to 3186-AJIEK\n",
      "Data columns (total 19 columns):\n",
      "SeniorCitizen       7043 non-null int64\n",
      "Partner             7043 non-null int64\n",
      "Dependents          7043 non-null int64\n",
      "tenure              7043 non-null int64\n",
      "PhoneService        7043 non-null int64\n",
      "OnlineSecurity      7043 non-null int64\n",
      "OnlineBackup        7043 non-null int64\n",
      "DeviceProtection    7043 non-null int64\n",
      "TechSupport         7043 non-null int64\n",
      "StreamingTV         7043 non-null int64\n",
      "StreamingMovies     7043 non-null int64\n",
      "PaperlessBilling    7043 non-null int64\n",
      "MonthlyCharges      7043 non-null float64\n",
      "TotalCharges        7043 non-null object\n",
      "Churn               7043 non-null int64\n",
      "Gender_n            7043 non-null int32\n",
      "Payment_method      7043 non-null int32\n",
      "internet_service    7043 non-null int32\n",
      "en_contract         7043 non-null int32\n",
      "dtypes: float64(1), int32(4), int64(13), object(1)\n",
      "memory usage: 1.3+ MB\n"
     ]
    }
   ],
   "source": [
    "data.info()"
   ]
  },
  {
   "cell_type": "code",
   "execution_count": 37,
   "metadata": {},
   "outputs": [],
   "source": [
    "data[\"TotalCharges\"] = pd.to_numeric(data.TotalCharges,errors='coerce')"
   ]
  },
  {
   "cell_type": "code",
   "execution_count": 38,
   "metadata": {},
   "outputs": [
    {
     "name": "stdout",
     "output_type": "stream",
     "text": [
      "<class 'pandas.core.frame.DataFrame'>\n",
      "Index: 7043 entries, 7590-VHVEG to 3186-AJIEK\n",
      "Data columns (total 19 columns):\n",
      "SeniorCitizen       7043 non-null int64\n",
      "Partner             7043 non-null int64\n",
      "Dependents          7043 non-null int64\n",
      "tenure              7043 non-null int64\n",
      "PhoneService        7043 non-null int64\n",
      "OnlineSecurity      7043 non-null int64\n",
      "OnlineBackup        7043 non-null int64\n",
      "DeviceProtection    7043 non-null int64\n",
      "TechSupport         7043 non-null int64\n",
      "StreamingTV         7043 non-null int64\n",
      "StreamingMovies     7043 non-null int64\n",
      "PaperlessBilling    7043 non-null int64\n",
      "MonthlyCharges      7043 non-null float64\n",
      "TotalCharges        7032 non-null float64\n",
      "Churn               7043 non-null int64\n",
      "Gender_n            7043 non-null int32\n",
      "Payment_method      7043 non-null int32\n",
      "internet_service    7043 non-null int32\n",
      "en_contract         7043 non-null int32\n",
      "dtypes: float64(2), int32(4), int64(13)\n",
      "memory usage: 1.3+ MB\n"
     ]
    }
   ],
   "source": [
    "data.info()"
   ]
  },
  {
   "cell_type": "code",
   "execution_count": 39,
   "metadata": {},
   "outputs": [
    {
     "data": {
      "text/plain": [
       "True"
      ]
     },
     "execution_count": 39,
     "metadata": {},
     "output_type": "execute_result"
    }
   ],
   "source": [
    "data['TotalCharges'].isnull().any()"
   ]
  },
  {
   "cell_type": "code",
   "execution_count": 40,
   "metadata": {},
   "outputs": [
    {
     "data": {
      "text/plain": [
       "11"
      ]
     },
     "execution_count": 40,
     "metadata": {},
     "output_type": "execute_result"
    }
   ],
   "source": [
    "data['TotalCharges'].isnull().sum()"
   ]
  },
  {
   "cell_type": "code",
   "execution_count": 41,
   "metadata": {},
   "outputs": [
    {
     "name": "stdout",
     "output_type": "stream",
     "text": [
      "customerID\n",
      "7590-VHVEG      29.85\n",
      "5575-GNVDE    1889.50\n",
      "3668-QPYBK     108.15\n",
      "7795-CFOCW    1840.75\n",
      "9237-HQITU     151.65\n",
      "9305-CDSKC     820.50\n",
      "1452-KIOVK    1949.40\n",
      "6713-OKOMC     301.90\n",
      "7892-POOKP    3046.05\n",
      "6388-TABGU    3487.95\n",
      "9763-GRSKD     587.45\n",
      "7469-LKBCI     326.80\n",
      "8091-TTVAX    5681.10\n",
      "0280-XJGEX    5036.30\n",
      "5129-JLPIS    2686.05\n",
      "3655-SNQYZ    7895.15\n",
      "8191-XWSZG    1022.95\n",
      "9959-WOFKT    7382.25\n",
      "4190-MFLUW     528.35\n",
      "4183-MYFRB    1862.90\n",
      "8779-QRDMV      39.65\n",
      "1680-VDCWW     202.25\n",
      "1066-JKSGK      20.15\n",
      "3638-WEABW    3505.10\n",
      "6322-HRPFA    2970.30\n",
      "6865-JZNKO    1530.60\n",
      "6467-CHFZW    4749.15\n",
      "8665-UTDHZ      30.20\n",
      "5248-YGIJN    6369.45\n",
      "8773-HHUOZ    1093.10\n",
      "               ...   \n",
      "1685-BQULA    3756.40\n",
      "9053-EJUNL    3645.75\n",
      "0666-UXTJO    2874.45\n",
      "1471-GIQKQ      49.95\n",
      "4807-IZYOZ    1020.75\n",
      "1122-JWTJW      70.65\n",
      "9710-NJERN     826.00\n",
      "9837-FWLCH     239.00\n",
      "1699-HPSBG     727.80\n",
      "7203-OYKCT    7544.30\n",
      "1035-IPQPU    6479.40\n",
      "7398-LXGYX    3626.35\n",
      "2823-LKABH    1679.40\n",
      "8775-CEBBJ     403.35\n",
      "0550-DCXLH     931.55\n",
      "9281-CEDRU    4326.25\n",
      "2235-DWLJU     263.05\n",
      "0871-OPBXW      39.25\n",
      "3605-JISKB    3316.10\n",
      "6894-LFHLY      75.75\n",
      "9767-FFLEM    2625.25\n",
      "0639-TSIQW    6886.25\n",
      "8456-QDAVC    1495.10\n",
      "7750-EYXWZ     743.30\n",
      "2569-WGERO    1419.40\n",
      "6840-RESVB    1990.50\n",
      "2234-XADUH    7362.90\n",
      "4801-JZAZL     346.45\n",
      "8361-LTMKD     306.60\n",
      "3186-AJIEK    6844.50\n",
      "Name: TotalCharges, Length: 7043, dtype: float64\n"
     ]
    }
   ],
   "source": [
    "zero_not_accepted=['TotalCharges']\n",
    "for column in zero_not_accepted:\n",
    "    data[column]=data[column].replace(0,np.NaN)\n",
    "    mean=int(data[column].mean(skipna=True))\n",
    "    data[column]=data[column].replace(np.NaN,mean)\n",
    "print(data[column])"
   ]
  },
  {
   "cell_type": "code",
   "execution_count": 42,
   "metadata": {},
   "outputs": [
    {
     "data": {
      "text/plain": [
       "False"
      ]
     },
     "execution_count": 42,
     "metadata": {},
     "output_type": "execute_result"
    }
   ],
   "source": [
    "data['TotalCharges'].isnull().any()"
   ]
  },
  {
   "cell_type": "code",
   "execution_count": 43,
   "metadata": {},
   "outputs": [
    {
     "data": {
      "text/plain": [
       "0"
      ]
     },
     "execution_count": 43,
     "metadata": {},
     "output_type": "execute_result"
    }
   ],
   "source": [
    "data['TotalCharges'].isnull().sum()"
   ]
  },
  {
   "cell_type": "code",
   "execution_count": 44,
   "metadata": {},
   "outputs": [
    {
     "data": {
      "image/png": "[encoded data removed]",
      "text/plain": [
       "<Figure size 1440x1080 with 20 Axes>"
      ]
     },
     "metadata": {
      "needs_background": "light"
     },
     "output_type": "display_data"
    }
   ],
   "source": [
    "data.hist(bins=50, figsize=(20, 15))\n",
    "plt.show()"
   ]
  },
  {
   "cell_type": "code",
   "execution_count": 45,
   "metadata": {},
   "outputs": [],
   "source": [
    "x=data.drop(['Churn'],axis=1)\n",
    "y=data['Churn']"
   ]
  },
  {
   "cell_type": "code",
   "execution_count": 46,
   "metadata": {},
   "outputs": [
    {
     "name": "stdout",
     "output_type": "stream",
     "text": [
      "['tenure' 'MonthlyCharges' 'TotalCharges' 'internet_service' 'en_contract']\n",
      "[ 997.2680105   273.46370421  291.6286419   785.73887812 1315.08887221]\n",
      "[('tenure', 997.2680104991426), ('MonthlyCharges', 273.46370420771046), ('TotalCharges', 291.62864189752196), ('internet_service', 785.7388781150353), ('en_contract', 1315.0888722077957)]\n"
     ]
    }
   ],
   "source": [
    "bestfeatures=SelectKBest(score_func=f_classif,k=5)\n",
    "fit=bestfeatures.fit_transform(x,y)\n",
    "cols=x.columns.values[bestfeatures.get_support()]\n",
    "print(cols)\n",
    "scores=bestfeatures.scores_[bestfeatures.get_support()]\n",
    "print(scores)\n",
    "name_scores=list(zip(cols,scores))\n",
    "print(name_scores)\n",
    "newdata=pd.DataFrame(name_scores)"
   ]
  },
  {
   "cell_type": "code",
   "execution_count": 77,
   "metadata": {},
   "outputs": [
    {
     "data": {
      "image/png": "[encoded data removed]",
      "text/plain": [
       "<Figure size 720x864 with 1 Axes>"
      ]
     },
     "metadata": {
      "needs_background": "light"
     },
     "output_type": "display_data"
    }
   ],
   "source": [
    "params = {'random_state': 0, 'n_jobs': 4, 'n_estimators': 5000, 'max_depth': 8}\n",
    "# One-hot encode\n",
    "data = pd.get_dummies(data)\n",
    "# Drop redundant columns (for features with two unique values)\n",
    "\n",
    "# Fit RandomForest Classifier\n",
    "clf = RandomForestClassifier(**params)\n",
    "clf = clf.fit(x, y)\n",
    "# Plot features importances\n",
    "imp = pd.Series(data=clf.feature_importances_, index=x.columns).sort_values(ascending=False)\n",
    "plt.figure(figsize=(10,12))\n",
    "plt.title(\"Feature importance\")\n",
    "ax = sns.barplot(y=imp.index, x=imp.values, palette=\"Blues_d\", orient='h')"
   ]
  },
  {
   "cell_type": "code",
   "execution_count": 79,
   "metadata": {},
   "outputs": [
    {
     "name": "stdout",
     "output_type": "stream",
     "text": [
      "0.8034066713981547\n"
     ]
    }
   ],
   "source": [
    "x_train, x_test, y_train, y_test = train_test_split(x, y, test_size=0.2, random_state=101)\n",
    "model_rf = RandomForestClassifier(n_estimators=1000 , oob_score = True, n_jobs = -1,\n",
    "                                  random_state =50, max_features = \"auto\",\n",
    "                                  max_leaf_nodes = 30)\n",
    "model_rf.fit(x_train, y_train)\n",
    "\n",
    "# Make predictions\n",
    "prediction_test = model_rf.predict(x_test)\n",
    "print (metrics.accuracy_score(y_test, prediction_test))"
   ]
  },
  {
   "cell_type": "code",
   "execution_count": 47,
   "metadata": {},
   "outputs": [],
   "source": [
    "x1=data[['tenure','MonthlyCharges','TotalCharges','internet_service','en_contract']]"
   ]
  },
  {
   "cell_type": "code",
   "execution_count": 48,
   "metadata": {},
   "outputs": [],
   "source": [
    "x1_train,x1_test,y_train,y_test = train_test_split(x1,y,test_size = 0.3,random_state = 42)"
   ]
  },
  {
   "cell_type": "code",
   "execution_count": 49,
   "metadata": {},
   "outputs": [
    {
     "data": {
      "text/plain": [
       "DecisionTreeClassifier(class_weight=None, criterion='gini', max_depth=None,\n",
       "            max_features=None, max_leaf_nodes=None,\n",
       "            min_impurity_decrease=0.0, min_impurity_split=None,\n",
       "            min_samples_leaf=1, min_samples_split=2,\n",
       "            min_weight_fraction_leaf=0.0, presort=False, random_state=None,\n",
       "            splitter='best')"
      ]
     },
     "execution_count": 49,
     "metadata": {},
     "output_type": "execute_result"
    }
   ],
   "source": [
    "classifier = DecisionTreeClassifier()\n",
    "classifier.fit(x1_train, y_train)"
   ]
  },
  {
   "cell_type": "code",
   "execution_count": 50,
   "metadata": {},
   "outputs": [],
   "source": [
    "y_pred = classifier.predict(x1_test)"
   ]
  },
  {
   "cell_type": "code",
   "execution_count": 51,
   "metadata": {},
   "outputs": [
    {
     "name": "stdout",
     "output_type": "stream",
     "text": [
      "[[1264  275]\n",
      " [ 294  280]]\n"
     ]
    }
   ],
   "source": [
    "print(confusion_matrix(y_test, y_pred))"
   ]
  },
  {
   "cell_type": "code",
   "execution_count": 52,
   "metadata": {},
   "outputs": [
    {
     "name": "stdout",
     "output_type": "stream",
     "text": [
      "              precision    recall  f1-score   support\n",
      "\n",
      "           0       0.81      0.82      0.82      1539\n",
      "           1       0.50      0.49      0.50       574\n",
      "\n",
      "   micro avg       0.73      0.73      0.73      2113\n",
      "   macro avg       0.66      0.65      0.66      2113\n",
      "weighted avg       0.73      0.73      0.73      2113\n",
      "\n"
     ]
    }
   ],
   "source": [
    "print(classification_report(y_test, y_pred))"
   ]
  },
  {
   "cell_type": "code",
   "execution_count": 53,
   "metadata": {},
   "outputs": [
    {
     "data": {
      "text/plain": [
       "-0.3610097963970451"
      ]
     },
     "execution_count": 53,
     "metadata": {},
     "output_type": "execute_result"
    }
   ],
   "source": [
    "r2_score(y_test,y_pred)"
   ]
  },
  {
   "cell_type": "code",
   "execution_count": 54,
   "metadata": {},
   "outputs": [
    {
     "name": "stdout",
     "output_type": "stream",
     "text": [
      "The accuracy of the model is : 73.07146237576904\n"
     ]
    }
   ],
   "source": [
    "print(\"The accuracy of the model is :\" ,accuracy_score(y_test, y_pred)*100)"
   ]
  },
  {
   "cell_type": "code",
   "execution_count": 55,
   "metadata": {},
   "outputs": [
    {
     "name": "stderr",
     "output_type": "stream",
     "text": [
      "C:\\Users\\souvi\\Anaconda3\\lib\\site-packages\\sklearn\\linear_model\\logistic.py:433: FutureWarning: Default solver will be changed to 'lbfgs' in 0.22. Specify a solver to silence this warning.\n",
      "  FutureWarning)\n"
     ]
    },
    {
     "data": {
      "text/plain": [
       "LogisticRegression(C=1.0, class_weight=None, dual=False, fit_intercept=True,\n",
       "          intercept_scaling=1, max_iter=100, multi_class='warn',\n",
       "          n_jobs=None, penalty='l2', random_state=None, solver='warn',\n",
       "          tol=0.0001, verbose=0, warm_start=False)"
      ]
     },
     "execution_count": 55,
     "metadata": {},
     "output_type": "execute_result"
    }
   ],
   "source": [
    "model2=LogisticRegression()\n",
    "model2.fit(x1_train,y_train)"
   ]
  },
  {
   "cell_type": "code",
   "execution_count": 56,
   "metadata": {},
   "outputs": [],
   "source": [
    "logreg_pred=model2.predict(x1_test)"
   ]
  },
  {
   "cell_type": "code",
   "execution_count": 57,
   "metadata": {},
   "outputs": [
    {
     "data": {
      "text/plain": [
       "-0.0333149948040834"
      ]
     },
     "execution_count": 57,
     "metadata": {},
     "output_type": "execute_result"
    }
   ],
   "source": [
    "r2_score(y_test,logreg_pred)"
   ]
  },
  {
   "cell_type": "code",
   "execution_count": 58,
   "metadata": {},
   "outputs": [
    {
     "name": "stdout",
     "output_type": "stream",
     "text": [
      "The accuracy score is : 79.5551348793185 %\n"
     ]
    }
   ],
   "source": [
    "print(\"The accuracy score is :\",accuracy_score(y_test,logreg_pred)*100,\"%\")"
   ]
  },
  {
   "cell_type": "code",
   "execution_count": 59,
   "metadata": {},
   "outputs": [
    {
     "name": "stdout",
     "output_type": "stream",
     "text": [
      "              precision    recall  f1-score   support\n",
      "\n",
      "           0       0.83      0.90      0.87      1539\n",
      "           1       0.66      0.50      0.57       574\n",
      "\n",
      "   micro avg       0.80      0.80      0.80      2113\n",
      "   macro avg       0.75      0.70      0.72      2113\n",
      "weighted avg       0.78      0.80      0.79      2113\n",
      "\n"
     ]
    }
   ],
   "source": [
    "print(classification_report(y_test, logreg_pred))"
   ]
  },
  {
   "cell_type": "code",
   "execution_count": 60,
   "metadata": {},
   "outputs": [
    {
     "name": "stdout",
     "output_type": "stream",
     "text": [
      "[[1392  147]\n",
      " [ 285  289]]\n"
     ]
    }
   ],
   "source": [
    "print(confusion_matrix(y_test, logreg_pred))"
   ]
  },
  {
   "cell_type": "code",
   "execution_count": 61,
   "metadata": {},
   "outputs": [
    {
     "data": {
      "text/plain": [
       "KNeighborsClassifier(algorithm='auto', leaf_size=30, metric='minkowski',\n",
       "           metric_params=None, n_jobs=None, n_neighbors=5, p=2,\n",
       "           weights='uniform')"
      ]
     },
     "execution_count": 61,
     "metadata": {},
     "output_type": "execute_result"
    }
   ],
   "source": [
    "KNNclassifier = KNeighborsClassifier(n_neighbors=5)\n",
    "KNNclassifier.fit(x1_train, y_train)"
   ]
  },
  {
   "cell_type": "code",
   "execution_count": 62,
   "metadata": {},
   "outputs": [],
   "source": [
    "KNN_pred = KNNclassifier.predict(x1_test)"
   ]
  },
  {
   "cell_type": "code",
   "execution_count": 63,
   "metadata": {},
   "outputs": [
    {
     "name": "stdout",
     "output_type": "stream",
     "text": [
      "[[1366  173]\n",
      " [ 306  268]]\n"
     ]
    }
   ],
   "source": [
    "print(confusion_matrix(y_test, KNN_pred))"
   ]
  },
  {
   "cell_type": "code",
   "execution_count": 64,
   "metadata": {},
   "outputs": [
    {
     "name": "stdout",
     "output_type": "stream",
     "text": [
      "              precision    recall  f1-score   support\n",
      "\n",
      "           0       0.82      0.89      0.85      1539\n",
      "           1       0.61      0.47      0.53       574\n",
      "\n",
      "   micro avg       0.77      0.77      0.77      2113\n",
      "   macro avg       0.71      0.68      0.69      2113\n",
      "weighted avg       0.76      0.77      0.76      2113\n",
      "\n"
     ]
    }
   ],
   "source": [
    "print(classification_report(y_test, KNN_pred))"
   ]
  },
  {
   "cell_type": "code",
   "execution_count": 65,
   "metadata": {},
   "outputs": [
    {
     "name": "stdout",
     "output_type": "stream",
     "text": [
      "Accuracy score is  : 77.33080927591102 %\n"
     ]
    }
   ],
   "source": [
    "print(\"Accuracy score is  :\",accuracy_score(y_test,KNN_pred)*100,\"%\")"
   ]
  },
  {
   "cell_type": "code",
   "execution_count": 66,
   "metadata": {},
   "outputs": [
    {
     "data": {
      "text/plain": [
       "-0.14573583914619426"
      ]
     },
     "execution_count": 66,
     "metadata": {},
     "output_type": "execute_result"
    }
   ],
   "source": [
    "r2_score(y_test,KNN_pred)"
   ]
  },
  {
   "cell_type": "code",
   "execution_count": 67,
   "metadata": {},
   "outputs": [
    {
     "data": {
      "text/plain": [
       "GaussianNB(priors=None, var_smoothing=1e-09)"
      ]
     },
     "execution_count": 67,
     "metadata": {},
     "output_type": "execute_result"
    }
   ],
   "source": [
    "model1=GaussianNB()\n",
    "model1.fit(x1_train,y_train)"
   ]
  },
  {
   "cell_type": "code",
   "execution_count": 68,
   "metadata": {},
   "outputs": [],
   "source": [
    "GNB_pred=model1.predict(x1_test)"
   ]
  },
  {
   "cell_type": "code",
   "execution_count": 69,
   "metadata": {},
   "outputs": [
    {
     "name": "stdout",
     "output_type": "stream",
     "text": [
      "[[1106  433]\n",
      " [ 120  454]]\n"
     ]
    }
   ],
   "source": [
    "print(confusion_matrix(y_test,GNB_pred))"
   ]
  },
  {
   "cell_type": "code",
   "execution_count": 70,
   "metadata": {},
   "outputs": [
    {
     "name": "stdout",
     "output_type": "stream",
     "text": [
      "              precision    recall  f1-score   support\n",
      "\n",
      "           0       0.90      0.72      0.80      1539\n",
      "           1       0.51      0.79      0.62       574\n",
      "\n",
      "   micro avg       0.74      0.74      0.74      2113\n",
      "   macro avg       0.71      0.75      0.71      2113\n",
      "weighted avg       0.80      0.74      0.75      2113\n",
      "\n"
     ]
    }
   ],
   "source": [
    "print(classification_report(y_test, GNB_pred))"
   ]
  },
  {
   "cell_type": "code",
   "execution_count": 71,
   "metadata": {},
   "outputs": [
    {
     "name": "stdout",
     "output_type": "stream",
     "text": [
      "Accuracy score is  : 73.82867960246095 %\n"
     ]
    }
   ],
   "source": [
    "print(\"Accuracy score is  :\",accuracy_score(y_test,GNB_pred)*100,\"%\")"
   ]
  },
  {
   "cell_type": "code",
   "execution_count": 72,
   "metadata": {},
   "outputs": [
    {
     "data": {
      "text/plain": [
       "-0.32273887066356055"
      ]
     },
     "execution_count": 72,
     "metadata": {},
     "output_type": "execute_result"
    }
   ],
   "source": [
    "r2_score(y_test,GNB_pred)"
   ]
  },
  {
   "cell_type": "code",
   "execution_count": 87,
   "metadata": {},
   "outputs": [
    {
     "data": {
      "image/png": "[encoded data removed]",
      "text/plain": [
       "<Figure size 720x576 with 1 Axes>"
      ]
     },
     "metadata": {},
     "output_type": "display_data"
    }
   ],
   "source": [
    "plt.figure(figsize=(10,8))\n",
    "slices = [80,73,79,77,73]\n",
    "activities = ['RandomForest','Decision Tree','Logistic Regression','KNN','GNB']\n",
    "cols = ['r','b','m','g','y']\n",
    "\n",
    "plt.pie(slices,\n",
    "        labels=activities,\n",
    "        colors=cols,\n",
    "        startangle=120,\n",
    "        shadow= True,\n",
    "        explode=(0,0,0.1,0,0),\n",
    "       autopct='%1.1f%%')\n",
    "\n",
    "plt.title('Pie Chart Of The predictions Percentages of the Applied Algorithms')\n",
    "plt.show()"
   ]
  },
  {
   "cell_type": "code",
   "execution_count": null,
   "metadata": {},
   "outputs": [],
   "source": []
  }
 ],
 "metadata": {
  "kernelspec": {
   "display_name": "Python 3",
   "language": "python",
   "name": "python3"
  },
  "language_info": {
   "codemirror_mode": {
    "name": "ipython",
    "version": 3
   },
   "file_extension": ".py",
   "mimetype": "text/x-python",
   "name": "python",
   "nbconvert_exporter": "python",
   "pygments_lexer": "ipython3",
   "version": "3.7.3"
  }
 },
 "nbformat": 4,
 "nbformat_minor": 2
}
